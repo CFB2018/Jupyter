{
 "cells": [
  {
   "cell_type": "markdown",
   "id": "f99823b7-9568-41d4-9f01-8224ad6d7090",
   "metadata": {},
   "source": [
    "# Data Science Tools and Ecosystem"
   ]
  },
  {
   "cell_type": "markdown",
   "id": "c5cd96d7-ce73-4aa5-89a6-563d5ad21352",
   "metadata": {},
   "source": [
    "### In this notebook, Data Science Tools and Ecosystem are summarized."
   ]
  },
  {
   "cell_type": "markdown",
   "id": "9236b694-e311-4992-9f0f-f8d2e3975b10",
   "metadata": {},
   "source": [
    "#### **Objectives:**\n",
    "- Learn common languages and libraries used in Data Science\n",
    "- Learn to format, and structure content by making tables, lists, and font variations.\n",
    "- Get hands-on practical exercises to reinforce Python learning\n",
    "##### By achieving these objectives, you will effectively be able to utilize Jupyter Notebooks for data analysis and presentation, enhancing readability."
   ]
  },
  {
   "cell_type": "markdown",
   "id": "c9907d4c-e66b-43c0-bed1-f23b8b0b904d",
   "metadata": {},
   "source": [
    "#### Some of the popular languages that Data Scientists use are:\n",
    "1. Python (for its versatility and rich ecosystem of libraries)\n",
    "2. R (for its powerful statistical packages and visualization libraries such as ggplot2 and dplyr)\n",
    "3. SQL (essential for working with databases, querying large datasets, and extracting data from Relational Databases)\n",
    "4. Julia (good for working with large-scale computational problems)\n",
    "5. Scala (used in conjunction with Apache Spark to process big data)\n",
    "6. MATLAB (strong tool for numerical computation and algorithm development)"
   ]
  },
  {
   "cell_type": "markdown",
   "id": "c59734fb-c9d2-4f00-a091-70d748ff0876",
   "metadata": {},
   "source": [
    "#### The most commonly used libraries used by Data Scientists include:\n",
    "1. Pandas (data manipulation and analysis, providing data structures like DataFrames)\n",
    "2. NumPy (essential for numerical computing, offering support for arrays and matrices)\n",
    "3. Scikit.learn (key library for machine learning; model training, evaluation, and preprocessing)\n",
    "4. Seaborn (built on Matplotlib, provides a high-level interface for attractive statistical graphics)\n",
    "5. TensorFlow (library for deep learning; model building and deployment)\n",
    "6. Keras (API for building neural networks)\n",
    "7. PyTorch (deep learning library)          "
   ]
  },
  {
   "cell_type": "markdown",
   "id": "0716f1d4-5db0-472c-89b5-2c23508a606e",
   "metadata": {},
   "source": [
    "|Data Science Tools  |\n",
    "|--------------------|\n",
    "|Jupyter Notebook    |\n",
    "|RStudio             |\n",
    "|Apache Zeppelin     | \n"
   ]
  },
  {
   "cell_type": "code",
   "execution_count": 65,
   "id": "ba750422-3d11-4bdd-a308-7fffdd1d0663",
   "metadata": {},
   "outputs": [
    {
     "name": "stdout",
     "output_type": "stream",
     "text": [
      "The results are result 1:18\n",
      "The results are result 2:18\n",
      "The results are result 3:18\n",
      "The results are result 4:18\n",
      "The results are result 5:18\n",
      "The results are result 6:18\n",
      "The results are result 7:18\n",
      "The results are result 8:18\n"
     ]
    }
   ],
   "source": [
    "#### Below are a few examples of evaluating arithmetic expressions in Python\n",
    "results = {\n",
    "\"result 1\": 15 + 3, \n",
    "\"result 2\": 21 - 3,\n",
    "\"result 3\": 6 * 3,\n",
    "\"result 4\": round(90 / 5),\n",
    "\"result 5\":37 // 2,\n",
    "\"result 6\": 54 % 36,\n",
    "\"result 7\":18 ** 1,\n",
    "\"result 8\": (4 * 5) - (0 + 2)\n",
    "}\n",
    "#Loop through the dictionary\n",
    "for key, value in results.items():\n",
    "    print(\"The results are {}:{}\".format(key, value))"
   ]
  },
  {
   "cell_type": "code",
   "execution_count": 67,
   "id": "d00e95ae-a2b9-418d-8680-ae8da5510a03",
   "metadata": {},
   "outputs": [
    {
     "data": {
      "text/plain": [
       "41"
      ]
     },
     "execution_count": 67,
     "metadata": {},
     "output_type": "execute_result"
    }
   ],
   "source": [
    "#This is a simple arithmetic expression to multiply and add integers\n",
    "(9*4)+5"
   ]
  },
  {
   "cell_type": "code",
   "execution_count": 45,
   "id": "e97affcd-94a7-4688-abc3-07f8db879014",
   "metadata": {},
   "outputs": [
    {
     "name": "stdout",
     "output_type": "stream",
     "text": [
      "200 minutes is equal to 3 hours.\n"
     ]
    }
   ],
   "source": [
    "# This will convert 200 minutes to hours.\n",
    "# Given minutes\n",
    "minutes = 200\n",
    "#Convert to hours\n",
    "hours = minutes / 60\n",
    "# Print the results\n",
    "print(\"{} minutes is equal to {} hours.\".format(minutes, round(hours)))"
   ]
  },
  {
   "cell_type": "code",
   "execution_count": null,
   "id": "d8234723-0bb3-492f-a4de-c86a51abe007",
   "metadata": {},
   "outputs": [],
   "source": [
    "##Author\n",
    "Carmen Flores Bjurström"
   ]
  }
 ],
 "metadata": {
  "kernelspec": {
   "display_name": "Python 3 (ipykernel)",
   "language": "python",
   "name": "python3"
  },
  "language_info": {
   "codemirror_mode": {
    "name": "ipython",
    "version": 3
   },
   "file_extension": ".py",
   "mimetype": "text/x-python",
   "name": "python",
   "nbconvert_exporter": "python",
   "pygments_lexer": "ipython3",
   "version": "3.12.4"
  }
 },
 "nbformat": 4,
 "nbformat_minor": 5
}
